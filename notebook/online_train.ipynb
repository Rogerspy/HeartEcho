{
 "cells": [
  {
   "cell_type": "code",
   "execution_count": 1,
   "metadata": {},
   "outputs": [
    {
     "name": "stderr",
     "output_type": "stream",
     "text": [
      "/home/maxiee/Code/HeartEcho/.venv/lib/python3.11/site-packages/tqdm/auto.py:21: TqdmWarning: IProgress not found. Please update jupyter and ipywidgets. See https://ipywidgets.readthedocs.io/en/stable/user_install.html\n",
      "  from .autonotebook import tqdm as notebook_tqdm\n"
     ]
    }
   ],
   "source": [
    "from transformers import AutoModelForCausalLM, AutoTokenizer, Trainer, TrainingArguments\n",
    "import os\n",
    "device = \"cuda\""
   ]
  },
  {
   "cell_type": "code",
   "execution_count": 2,
   "metadata": {},
   "outputs": [
    {
     "name": "stderr",
     "output_type": "stream",
     "text": [
      "Special tokens have been added in the vocabulary, make sure the associated word embeddings are fine-tuned or trained.\n"
     ]
    }
   ],
   "source": [
    "model_dir = './0.5B-trained'\n",
    "\n",
    "model = None\n",
    "# 加载模型和分词器\n",
    "if os.path.exists(model_dir):\n",
    "    model = AutoModelForCausalLM.from_pretrained(model_dir)\n",
    "else:\n",
    "    model = AutoModelForCausalLM.from_pretrained(\"Qwen/Qwen1.5-0.5B-Chat\", torch_dtype=\"auto\", device_map=\"auto\")\n",
    "tokenizer = AutoTokenizer.from_pretrained(\"Qwen/Qwen1.5-0.5B-Chat\")"
   ]
  },
  {
   "cell_type": "code",
   "execution_count": 3,
   "metadata": {},
   "outputs": [],
   "source": [
    "from typing import Dict\n",
    "import torch\n",
    "from torch.utils.data import Dataset\n",
    "from transformers.trainer_pt_utils import LabelSmoother\n",
    "\n",
    "IGNORE_TOKEN_ID = LabelSmoother.ignore_index  # 设置忽略令牌的ID，用于损失计算时忽略\n",
    "\n",
    "def preprocess(messages, tokenizer, max_len):\n",
    "    print(\"preprocessing\")\n",
    "    \n",
    "    texts = []\n",
    "    for message in messages:\n",
    "        # 将对话格式应用于每组消息\n",
    "        texts.append(\n",
    "            tokenizer.apply_chat_template(\n",
    "                message,\n",
    "                tokenize=True,\n",
    "                add_generation_prompt=False,\n",
    "                padding=True,\n",
    "                max_length=max_len,\n",
    "                truncation=True,\n",
    "            )\n",
    "        )\n",
    "    input_ids = torch.tensor(texts, dtype=torch.long)\n",
    "    target_ids = input_ids.clone()\n",
    "    target_ids[target_ids == tokenizer.pad_token_id] = IGNORE_TOKEN_ID\n",
    "    attention_mask = input_ids.ne(tokenizer.pad_token_id)\n",
    "    \n",
    "    return dict(\n",
    "        input_ids=input_ids, target_ids=target_ids, attention_mask=attention_mask\n",
    "    )\n",
    "\n",
    "class SupervisedDataset(Dataset):\n",
    "    def __init__(self, raw_data, tokenizer, max_len):\n",
    "        print(\"init\")\n",
    "        messages = [example[\"messages\"] for example in raw_data]\n",
    "        data_dict = preprocess(messages, tokenizer, max_len)\n",
    "\n",
    "        self.input_ids = data_dict[\"input_ids\"]\n",
    "        self.target_ids = data_dict[\"target_ids\"]\n",
    "        self.attention_mask = data_dict[\"attention_mask\"]\n",
    "\n",
    "        \n",
    "    def __len__(self):\n",
    "        return len(self.input_ids)\n",
    "\n",
    "    def __getitem__(self, i) -> Dict[str, torch.Tensor]:\n",
    "        return dict(\n",
    "            input_ids=self.input_ids[i],\n",
    "            labels=self.target_ids[i],\n",
    "            attention_mask=self.attention_mask[i],\n",
    "        )\n",
    "\n",
    "\n"
   ]
  },
  {
   "cell_type": "code",
   "execution_count": null,
   "metadata": {},
   "outputs": [],
   "source": [
    "# 发起对话\n",
    "# 对话内容\n",
    "prompt = \"Maeiee是谁？你与他是什么关系？\"\n",
    "messages = [\n",
    "    {\"role\": \"system\", \"content\": \"你是一个有用的助手。\"},\n",
    "    {\"role\": \"user\", \"content\": prompt}\n",
    "]\n",
    "text = tokenizer.apply_chat_template(\n",
    "    messages,\n",
    "    tokenize=False,\n",
    "    add_generation_prompt=True\n",
    ")\n",
    "model_inputs = tokenizer([text], return_tensors=\"pt\").to(device)\n",
    "generated_ids = model.generate(\n",
    "    model_inputs.input_ids,\n",
    "    max_new_tokens=512\n",
    ")\n",
    "generated_ids = [\n",
    "    output_ids[len(input_ids):] for input_ids, output_ids in zip(model_inputs.input_ids, generated_ids)\n",
    "]\n",
    "response = tokenizer.batch_decode(generated_ids, skip_special_tokens=True)[0]\n",
    "print('====用户输入====')\n",
    "print(prompt)\n",
    "print('====模型回复====')\n",
    "print(response)"
   ]
  },
  {
   "cell_type": "code",
   "execution_count": 13,
   "metadata": {},
   "outputs": [
    {
     "name": "stdout",
     "output_type": "stream",
     "text": [
      "训练模型\n",
      "训练模型2\n",
      "init\n",
      "preprocessing\n"
     ]
    },
    {
     "name": "stderr",
     "output_type": "stream",
     "text": [
      "100%|██████████| 1/1 [00:00<00:00,  2.81it/s]"
     ]
    },
    {
     "name": "stdout",
     "output_type": "stream",
     "text": [
      "{'train_runtime': 0.3562, 'train_samples_per_second': 2.808, 'train_steps_per_second': 2.808, 'train_loss': 1.3851810693740845, 'epoch': 1.0}\n"
     ]
    },
    {
     "name": "stderr",
     "output_type": "stream",
     "text": [
      "\n"
     ]
    },
    {
     "data": {
      "text/plain": [
       "TrainOutput(global_step=1, training_loss=1.3851810693740845, metrics={'train_runtime': 0.3562, 'train_samples_per_second': 2.808, 'train_steps_per_second': 2.808, 'train_loss': 1.3851810693740845, 'epoch': 1.0})"
      ]
     },
     "execution_count": 13,
     "metadata": {},
     "output_type": "execute_result"
    }
   ],
   "source": [
    "# 训练模型\n",
    "# 训练对话与回答\n",
    "print(\"训练模型\")\n",
    "raw_data = [\n",
    "    {\"messages\": [\n",
    "        {\"role\": \"system\", \"content\": \"你是一个有用的助手。\"},\n",
    "        {\"role\": \"user\", \"content\": \"Maeiee是谁？\"},\n",
    "        {\"role\": \"assistant\", \"content\": \"Maeiee是我的好朋友！\"}\n",
    "    ]},\n",
    "    # 更多的对话实例...\n",
    "]\n",
    "print(\"训练模型2\")\n",
    "\n",
    "train_dataset = SupervisedDataset(raw_data, tokenizer, 512)\n",
    "# 增量训练模型\n",
    "# 注意：你需要根据你的实际训练环境调整此部分\n",
    "training_args = TrainingArguments(\n",
    "    output_dir='./results',          # 输出目录\n",
    "    num_train_epochs=1,              # 总训练轮次\n",
    "    per_device_train_batch_size=4,   # 每个设备的批大小\n",
    "    warmup_steps=0,                # 预热步骤\n",
    "    weight_decay=0.01,               # 权重衰减\n",
    "    logging_dir='./logs',            # 日志目录\n",
    ")\n",
    "trainer = Trainer(\n",
    "    model=model,\n",
    "    args=training_args,\n",
    "    train_dataset=train_dataset,  # 使用新的训练数据\n",
    "    # 这里可能还需要一个评估数据集\n",
    ")\n",
    "trainer.train()"
   ]
  },
  {
   "cell_type": "code",
   "execution_count": 14,
   "metadata": {},
   "outputs": [],
   "source": [
    "model.save_pretrained(model_dir)"
   ]
  }
 ],
 "metadata": {
  "kernelspec": {
   "display_name": ".venv",
   "language": "python",
   "name": "python3"
  },
  "language_info": {
   "codemirror_mode": {
    "name": "ipython",
    "version": 3
   },
   "file_extension": ".py",
   "mimetype": "text/x-python",
   "name": "python",
   "nbconvert_exporter": "python",
   "pygments_lexer": "ipython3",
   "version": "3.11.6"
  }
 },
 "nbformat": 4,
 "nbformat_minor": 2
}
